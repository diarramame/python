{
 "cells": [
  {
   "cell_type": "markdown",
   "metadata": {},
   "source": [
    "#Propriétés\n",
    "Python est fortement typé (c'est-à-dire que les types sont appliqués), dynamiquement, implicitement tapé (c'est-à-dire que vous n'avez pas à déclarer les variables), sensible à la casse (var et VAR sont deux variables différentes) .\n",
    "Obtenir de l'aide\n",
    "L'aide en Python est toujours disponible directement dans l'interpréteur. Si vous voulez savoir comment un objet fonctionne, tout ce que vous avez à faire est d'appeler.\n",
    "\n",
    "#Obtenir de l'aide\n",
    "L'aide en Python est toujours disponible directement dans l'interpréteur. Si vous voulez savoir comment un objet fonctionne, vous n'avez qu'à appeler help (<object>)! Aussi utile sont dir (), qui montre toutes les méthodes de l'objet, et <object> .__ doc__, qui vous montre sa chaîne de documentation"
   ]
  },
  {
   "cell_type": "code",
   "execution_count": 14,
   "metadata": {
    "collapsed": false
   },
   "outputs": [
    {
     "name": "stdout",
     "output_type": "stream",
     "text": [
      "Help on int object:\n",
      "\n",
      "class int(object)\n",
      " |  int(x=0) -> integer\n",
      " |  int(x, base=10) -> integer\n",
      " |  \n",
      " |  Convert a number or string to an integer, or return 0 if no arguments\n",
      " |  are given.  If x is a number, return x.__int__().  For floating point\n",
      " |  numbers, this truncates towards zero.\n",
      " |  \n",
      " |  If x is not a number or if base is given, then x must be a string,\n",
      " |  bytes, or bytearray instance representing an integer literal in the\n",
      " |  given base.  The literal can be preceded by '+' or '-' and be surrounded\n",
      " |  by whitespace.  The base defaults to 10.  Valid bases are 0 and 2-36.\n",
      " |  Base 0 means to interpret the base from the string as an integer literal.\n",
      " |  >>> int('0b100', base=0)\n",
      " |  4\n",
      " |  \n",
      " |  Methods defined here:\n",
      " |  \n",
      " |  __abs__(self, /)\n",
      " |      abs(self)\n",
      " |  \n",
      " |  __add__(self, value, /)\n",
      " |      Return self+value.\n",
      " |  \n",
      " |  __and__(self, value, /)\n",
      " |      Return self&value.\n",
      " |  \n",
      " |  __bool__(self, /)\n",
      " |      self != 0\n",
      " |  \n",
      " |  __ceil__(...)\n",
      " |      Ceiling of an Integral returns itself.\n",
      " |  \n",
      " |  __divmod__(self, value, /)\n",
      " |      Return divmod(self, value).\n",
      " |  \n",
      " |  __eq__(self, value, /)\n",
      " |      Return self==value.\n",
      " |  \n",
      " |  __float__(self, /)\n",
      " |      float(self)\n",
      " |  \n",
      " |  __floor__(...)\n",
      " |      Flooring an Integral returns itself.\n",
      " |  \n",
      " |  __floordiv__(self, value, /)\n",
      " |      Return self//value.\n",
      " |  \n",
      " |  __format__(...)\n",
      " |      default object formatter\n",
      " |  \n",
      " |  __ge__(self, value, /)\n",
      " |      Return self>=value.\n",
      " |  \n",
      " |  __getattribute__(self, name, /)\n",
      " |      Return getattr(self, name).\n",
      " |  \n",
      " |  __getnewargs__(...)\n",
      " |  \n",
      " |  __gt__(self, value, /)\n",
      " |      Return self>value.\n",
      " |  \n",
      " |  __hash__(self, /)\n",
      " |      Return hash(self).\n",
      " |  \n",
      " |  __index__(self, /)\n",
      " |      Return self converted to an integer, if self is suitable for use as an index into a list.\n",
      " |  \n",
      " |  __int__(self, /)\n",
      " |      int(self)\n",
      " |  \n",
      " |  __invert__(self, /)\n",
      " |      ~self\n",
      " |  \n",
      " |  __le__(self, value, /)\n",
      " |      Return self<=value.\n",
      " |  \n",
      " |  __lshift__(self, value, /)\n",
      " |      Return self<<value.\n",
      " |  \n",
      " |  __lt__(self, value, /)\n",
      " |      Return self<value.\n",
      " |  \n",
      " |  __mod__(self, value, /)\n",
      " |      Return self%value.\n",
      " |  \n",
      " |  __mul__(self, value, /)\n",
      " |      Return self*value.\n",
      " |  \n",
      " |  __ne__(self, value, /)\n",
      " |      Return self!=value.\n",
      " |  \n",
      " |  __neg__(self, /)\n",
      " |      -self\n",
      " |  \n",
      " |  __new__(*args, **kwargs) from builtins.type\n",
      " |      Create and return a new object.  See help(type) for accurate signature.\n",
      " |  \n",
      " |  __or__(self, value, /)\n",
      " |      Return self|value.\n",
      " |  \n",
      " |  __pos__(self, /)\n",
      " |      +self\n",
      " |  \n",
      " |  __pow__(self, value, mod=None, /)\n",
      " |      Return pow(self, value, mod).\n",
      " |  \n",
      " |  __radd__(self, value, /)\n",
      " |      Return value+self.\n",
      " |  \n",
      " |  __rand__(self, value, /)\n",
      " |      Return value&self.\n",
      " |  \n",
      " |  __rdivmod__(self, value, /)\n",
      " |      Return divmod(value, self).\n",
      " |  \n",
      " |  __repr__(self, /)\n",
      " |      Return repr(self).\n",
      " |  \n",
      " |  __rfloordiv__(self, value, /)\n",
      " |      Return value//self.\n",
      " |  \n",
      " |  __rlshift__(self, value, /)\n",
      " |      Return value<<self.\n",
      " |  \n",
      " |  __rmod__(self, value, /)\n",
      " |      Return value%self.\n",
      " |  \n",
      " |  __rmul__(self, value, /)\n",
      " |      Return value*self.\n",
      " |  \n",
      " |  __ror__(self, value, /)\n",
      " |      Return value|self.\n",
      " |  \n",
      " |  __round__(...)\n",
      " |      Rounding an Integral returns itself.\n",
      " |      Rounding with an ndigits argument also returns an integer.\n",
      " |  \n",
      " |  __rpow__(self, value, mod=None, /)\n",
      " |      Return pow(value, self, mod).\n",
      " |  \n",
      " |  __rrshift__(self, value, /)\n",
      " |      Return value>>self.\n",
      " |  \n",
      " |  __rshift__(self, value, /)\n",
      " |      Return self>>value.\n",
      " |  \n",
      " |  __rsub__(self, value, /)\n",
      " |      Return value-self.\n",
      " |  \n",
      " |  __rtruediv__(self, value, /)\n",
      " |      Return value/self.\n",
      " |  \n",
      " |  __rxor__(self, value, /)\n",
      " |      Return value^self.\n",
      " |  \n",
      " |  __sizeof__(...)\n",
      " |      Returns size in memory, in bytes\n",
      " |  \n",
      " |  __str__(self, /)\n",
      " |      Return str(self).\n",
      " |  \n",
      " |  __sub__(self, value, /)\n",
      " |      Return self-value.\n",
      " |  \n",
      " |  __truediv__(self, value, /)\n",
      " |      Return self/value.\n",
      " |  \n",
      " |  __trunc__(...)\n",
      " |      Truncating an Integral returns itself.\n",
      " |  \n",
      " |  __xor__(self, value, /)\n",
      " |      Return self^value.\n",
      " |  \n",
      " |  bit_length(...)\n",
      " |      int.bit_length() -> int\n",
      " |      \n",
      " |      Number of bits necessary to represent self in binary.\n",
      " |      >>> bin(37)\n",
      " |      '0b100101'\n",
      " |      >>> (37).bit_length()\n",
      " |      6\n",
      " |  \n",
      " |  conjugate(...)\n",
      " |      Returns self, the complex conjugate of any int.\n",
      " |  \n",
      " |  from_bytes(...) from builtins.type\n",
      " |      int.from_bytes(bytes, byteorder, *, signed=False) -> int\n",
      " |      \n",
      " |      Return the integer represented by the given array of bytes.\n",
      " |      \n",
      " |      The bytes argument must be a bytes-like object (e.g. bytes or bytearray).\n",
      " |      \n",
      " |      The byteorder argument determines the byte order used to represent the\n",
      " |      integer.  If byteorder is 'big', the most significant byte is at the\n",
      " |      beginning of the byte array.  If byteorder is 'little', the most\n",
      " |      significant byte is at the end of the byte array.  To request the native\n",
      " |      byte order of the host system, use `sys.byteorder' as the byte order value.\n",
      " |      \n",
      " |      The signed keyword-only argument indicates whether two's complement is\n",
      " |      used to represent the integer.\n",
      " |  \n",
      " |  to_bytes(...)\n",
      " |      int.to_bytes(length, byteorder, *, signed=False) -> bytes\n",
      " |      \n",
      " |      Return an array of bytes representing an integer.\n",
      " |      \n",
      " |      The integer is represented using length bytes.  An OverflowError is\n",
      " |      raised if the integer is not representable with the given number of\n",
      " |      bytes.\n",
      " |      \n",
      " |      The byteorder argument determines the byte order used to represent the\n",
      " |      integer.  If byteorder is 'big', the most significant byte is at the\n",
      " |      beginning of the byte array.  If byteorder is 'little', the most\n",
      " |      significant byte is at the end of the byte array.  To request the native\n",
      " |      byte order of the host system, use `sys.byteorder' as the byte order value.\n",
      " |      \n",
      " |      The signed keyword-only argument determines whether two's complement is\n",
      " |      used to represent the integer.  If signed is False and a negative integer\n",
      " |      is given, an OverflowError is raised.\n",
      " |  \n",
      " |  ----------------------------------------------------------------------\n",
      " |  Data descriptors defined here:\n",
      " |  \n",
      " |  denominator\n",
      " |      the denominator of a rational number in lowest terms\n",
      " |  \n",
      " |  imag\n",
      " |      the imaginary part of a complex number\n",
      " |  \n",
      " |  numerator\n",
      " |      the numerator of a rational number in lowest terms\n",
      " |  \n",
      " |  real\n",
      " |      the real part of a complex number\n",
      "\n"
     ]
    },
    {
     "data": {
      "text/plain": [
       "'Return the absolute value of the argument.'"
      ]
     },
     "execution_count": 14,
     "metadata": {},
     "output_type": "execute_result"
    }
   ],
   "source": [
    "help(5)\n",
    "\n",
    "dir(5)\n",
    "\n",
    "\n",
    "abs.__doc__\n"
   ]
  },
  {
   "cell_type": "markdown",
   "metadata": {},
   "source": [
    "Syntaxe\n",
    "Python n'a pas de caractères obligatoires de terminaison d'instruction et les blocs sont spécifiés par indentation. Indent pour commencer un bloc, dedent à la fin d'un. Les instructions qui attendent un niveau d'indentation se terminent en deux points (:). Les commentaires commencent par le signe pound (#) et sont des lignes simples et multi-lignes qui sont utilisées pour les commentaires multilignes. Les valeurs sont assignées (en fait, les objets sont liés à des noms) avec le signe égal (\"=\"), et le test d'égalité est effectué en utilisant deux signes égaux (\"==\"). Vous pouvez incrémenter / décrémenter les valeurs en utilisant les opérateurs + = et - = respectivement par la valeur de droite. Cela fonctionne sur de nombreux types de données, chaînes incluses. Vous pouvez également utiliser plusieurs variables sur une seule ligne. Par exemple:"
   ]
  },
  {
   "cell_type": "code",
   "execution_count": 15,
   "metadata": {
    "collapsed": false
   },
   "outputs": [
    {
     "name": "stdout",
     "output_type": "stream",
     "text": [
      "Bonjour tout le monde.\n"
     ]
    }
   ],
   "source": [
    "\n",
    "\n",
    "mavariable = 3\n",
    "mavariable += 2\n",
    "mavariable\n",
    "\n",
    "mavariable -= 1\n",
    "mavariable\n",
    "\n",
    "\"\"\"C'est un long commentaire.\n",
    "Les prochaines lignes concatenent les deux chaines de caractère.\"\"\"\n",
    "ma_chaine_de_caractere = \"Bonjour\"\n",
    "ma_chaine_de_caractere += \" tout le monde.\"\n",
    "print (ma_chaine_de_caractere)\n",
    "\n",
    "# This swaps the variables in one line(!).\n",
    "# It doesn't violate strong typing because values aren't\n",
    "# actually being assigned, but new objects are bound to\n",
    "# the old names.\n",
    "mavariable, ma_chaine_de_caractere = ma_chaine_de_caractere, mavariable\n",
    "\n"
   ]
  },
  {
   "cell_type": "markdown",
   "metadata": {},
   "source": [
    "Types de données\n",
    "Les structures de données disponibles en python sont des listes, des tuples et des dictionnaires. Les ensembles sont disponibles dans la bibliothèque des ensembles (mais sont intégrés dans Python 2.5 et versions ultérieures). Les listes sont comme des tableaux unidimensionnels (mais vous pouvez également avoir des listes d'autres listes), les dictionnaires sont des tableaux associatifs (tables de hachage aka) et les tuples sont des tableaux unidimensionnels immuables (les \"tableaux\" Python peuvent être de tout type, donc vous pouvez Mix, par exemple, entiers, chaînes, etc dans les listes / dictionnaires / tuples). L'index du premier élément dans tous les types de tableau est 0. Les nombres négatifs comptent de la fin vers le début, -1 est le dernier élément. Les variables peuvent pointer vers des fonctions. L'utilisation est la suivante:"
   ]
  },
  {
   "cell_type": "code",
   "execution_count": 20,
   "metadata": {
    "collapsed": false
   },
   "outputs": [
    {
     "name": "stdout",
     "output_type": "stream",
     "text": [
      "3\n"
     ]
    }
   ],
   "source": [
    "sample = [1, [\"another\", \"list\"], (\"a\", \"tuple\")]\n",
    "ma_liste = [\"List item 1\", 2, 3.14]\n",
    "ma_liste [0] = \"List item 1 again\" # We're changing the item.\n",
    "ma_liste [-1] = 3.21 # Here, we refer to the last item.\n",
    "mon_dictionnaire  = {\"Key 1\": \"Value 1\", 2: 3, \"pi\": 3.14}\n",
    "mon_dictionnaire [\"pi\"] = 3.15 # This is how you change dictionary values.\n",
    "ma_tuple  = (1, 2, 3)\n",
    "ma_fonction  = len ##len permet de definir la taille\n",
    "print (ma_fonction (ma_liste))\n"
   ]
  },
  {
   "cell_type": "markdown",
   "metadata": {},
   "source": [
    "Vous pouvez accéder aux plages de tableau à l'aide de deux points (:). Laisser l'index de départ vide suppose le premier élément, laissant l'index final supposer le dernier élément. Les indices négatifs comptent à partir du dernier élément vers l'arrière (donc -1 est le dernier élément) comme suit:"
   ]
  },
  {
   "cell_type": "code",
   "execution_count": 24,
   "metadata": {
    "collapsed": false
   },
   "outputs": [
    {
     "name": "stdout",
     "output_type": "stream",
     "text": [
      "['Liste d elements 1', 2, 3.14]\n",
      "['Liste d elements 1', 2]\n",
      "['Liste d elements 1', 2]\n",
      "[2, 3.14]\n",
      "['Liste d elements 1', 3.14]\n"
     ]
    }
   ],
   "source": [
    "ma_liste = [\"Liste d elements 1\", 2, 3.14]\n",
    "print (ma_liste [:])\n",
    "\n",
    "print (ma_liste [0:2])\n",
    "\n",
    "print (ma_liste [-3:-1])\n",
    "\n",
    "print (ma_liste [1:])\n",
    "\n",
    "# Adding a third parameter, \"step\" will have Python step in\n",
    "# N item increments, rather than 1.\n",
    "# E.g., this will return the first item, then go to the third and\n",
    "# return that (so, items 0 and 2 in 0-indexing).\n",
    "print (ma_liste[::2])\n"
   ]
  },
  {
   "cell_type": "markdown",
   "metadata": {},
   "source": [
    "Chaines de caractères\n",
    "Ses chaînes peuvent utiliser des guillemets simples ou doubles, et vous pouvez avoir des guillemets d'un type à l'intérieur d'une chaîne qui utilise l'autre type (c'est-à-dire «Il a dit« bonjour ». Les chaînes de caractères multilignes sont encadrées par des guillemets triples (ou \"uniques\"). Python supporte Unicode hors de la boîte, en utilisant la syntaxe u \"Ceci est une chaîne unicode\". Modulo) et un tuple.Chaque% s est remplacé par un élément du tuple, de gauche à droite, et vous pouvez également utiliser des substitutions de dictionnaire comme suit:"
   ]
  },
  {
   "cell_type": "code",
   "execution_count": 37,
   "metadata": {
    "collapsed": false
   },
   "outputs": [
    {
     "name": "stdout",
     "output_type": "stream",
     "text": [
      "Name: lolNumber: 3String: ---\n"
     ]
    }
   ],
   "source": [
    "print (\"Name: %s\\\n",
    "Number: %s\\\n",
    "String: %s\" % (\"lol\", 3, 3 * \"-\"))\n",
    "\n",
    "\n",
    "##strString = \"\"\"C'est une chaine de caractères à plusieurs lignes.\"\"\"\n",
    "\n",
    "# Attention: Watch out for the trailing s in \"%(key)s\".\n",
    "# print \"This %(verb)s a %(noun)s.\" % {\"noun\": \"test\", \"verb\": \"is\"}\n"
   ]
  },
  {
   "cell_type": "markdown",
   "metadata": {},
   "source": [
    "Déclarations de contrôle de flux\n",
    "Les instructions de contrôle de flux sont if, for et while. Il n'y a pas de commutateur; Utilisez plutôt if. Utiliser pour pour énumérer par les membres d'une liste. Pour obtenir une liste de numéros, utilisez la plage (<nombre>). La syntaxe de ces énoncés est donc:"
   ]
  },
  {
   "cell_type": "code",
   "execution_count": null,
   "metadata": {
    "collapsed": true
   },
   "outputs": [],
   "source": [
    "rangelist = range(10)\n",
    "print rangelist\n",
    "[0, 1, 2, 3, 4, 5, 6, 7, 8, 9]\n",
    "for number in rangelist:\n",
    "    # Check if number is one of\n",
    "    # the numbers in the tuple.\n",
    "    if number in (3, 4, 7, 9):\n",
    "        # \"Break\" terminates a for without\n",
    "        # executing the \"else\" clause.\n",
    "        break\n",
    "    else:\n",
    "        # \"Continue\" starts the next iteration\n",
    "        # of the loop. It's rather useless here,\n",
    "        # as it's the last statement of the loop.\n",
    "        continue\n",
    "else:\n",
    "    # The \"else\" clause is optional and is\n",
    "    # executed only if the loop didn't \"break\".\n",
    "    pass # Do nothing\n",
    "\n",
    "if rangelist[1] == 2:\n",
    "    print \"The second item (lists are 0-based) is 2\"\n",
    "elif rangelist[1] == 3:\n",
    "    print \"The second item (lists are 0-based) is 3\"\n",
    "else:\n",
    "    print \"Dunno\"\n",
    "\n",
    "while rangelist[1] == 1:\n",
    "    pass"
   ]
  },
  {
   "cell_type": "markdown",
   "metadata": {},
   "source": [
    "Les fonctions\n",
    "Les fonctions sont déclarées avec le mot-clé \"def\". Les arguments optionnels sont définis dans la déclaration de fonction après les arguments obligatoires en étant affectés à une valeur par défaut. Pour les arguments nommés, le nom de l'argument est affecté d'une valeur. Les fonctions peuvent retourner un tuple (et en utilisant le déballage tuple, vous pouvez effectivement retourner plusieurs valeurs). Les fonctions Lambda sont des fonctions ad hoc qui sont composées d'une seule instruction. Les paramètres sont transmis par référence, mais les types immuables (tuples, ints, chaînes, etc) * ne peuvent pas être modifiés *. C'est parce que seul l'emplacement de mémoire de l'élément est passé, et la liaison d'un autre objet à une variable ignore l'ancien, donc les types immuables sont remplacés. Par exemple:"
   ]
  },
  {
   "cell_type": "code",
   "execution_count": null,
   "metadata": {
    "collapsed": true
   },
   "outputs": [],
   "source": [
    "# Same as def funcvar(x): return x + 1\n",
    "funcvar = lambda x: x + 1\n",
    "print funcvar(1)\n",
    "\n",
    "\n",
    "# an_int and a_string are optional, they have default values\n",
    "# if one is not passed (2 and \"A default string\", respectively).\n",
    "def passing_example(a_list, an_int=2, a_string=\"A default string\"):\n",
    "    a_list.append(\"A new item\")\n",
    "    an_int = 4\n",
    "    return a_list, an_int, a_string\n",
    "\n",
    "my_list = [1, 2, 3]\n",
    "my_int = 10\n",
    "print passing_example(my_list, my_int)\n",
    "([1, 2, 3, 'A new item'], 4, \"A default string\")\n",
    "my_list\n",
    "[1, 2, 3, 'A new item']\n",
    "my_int\n",
    "10"
   ]
  },
  {
   "cell_type": "markdown",
   "metadata": {},
   "source": [
    "les classes\n",
    "Python prend en charge une forme limitée d'héritage multiple dans les classes. Les variables et les méthodes privées peuvent être déclarées (par convention, cela n'est pas imposé par la langue) en ajoutant au moins deux caractères de soulignement et au plus un caractère de fin (par exemple \"__spam\"). Nous pouvons également lier des noms arbitraires aux instances de classe. Voici un exemple:"
   ]
  },
  {
   "cell_type": "code",
   "execution_count": null,
   "metadata": {
    "collapsed": true
   },
   "outputs": [],
   "source": [
    "class MyClass(object):\n",
    "    common = 10\n",
    "    def __init__(self):\n",
    "        self.myvariable = 3\n",
    "    def myfunction(self, arg1, arg2):\n",
    "        return self.myvariable\n",
    "\n",
    "    # This is the class instantiation\n",
    "classinstance = MyClass()\n",
    "classinstance.myfunction(1, 2)\n",
    "\n",
    "# This variable is shared by all instances.\n",
    "classinstance2 = MyClass()\n",
    "classinstance.common\n",
    "lassinstance2.common\n",
    "\n",
    "# Note how we use the class name\n",
    "# instead of the instance.\n",
    "MyClass.common = 30\n",
    "classinstance.common\n",
    "\n",
    "classinstance2.common\n",
    "\n",
    "# This will not update the variable on the class,\n",
    "# instead it will bind a new object to the old\n",
    "# variable name.\n",
    "classinstance.common = 10\n",
    "classinstance.common\n",
    "\n",
    "classinstance2.common\n",
    "\n",
    "MyClass.common = 50\n",
    "# This has not changed, because \"common\" is\n",
    "# now an instance variable.\n",
    "classinstance.common\n",
    "10\n",
    ">>> classinstance2.common\n",
    "50\n",
    "\n",
    "# This class inherits from MyClass. The example\n",
    "# class above inherits from \"object\", which makes\n",
    "# it what's called a \"new-style class\".\n",
    "# Multiple inheritance is declared as:\n",
    "# class OtherClass(MyClass1, MyClass2, MyClassN)\n",
    "class OtherClass(MyClass):\n",
    "    # The \"self\" argument is passed automatically\n",
    "    # and refers to the class instance, so you can set\n",
    "    # instance variables as above, but from inside the class.\n",
    "    def __init__(self, arg1):\n",
    "        self.myvariable = 3\n",
    "        print arg1\n",
    "\n",
    ">>> classinstance = OtherClass(\"hello\")\n",
    "hello\n",
    ">>> classinstance.myfunction(1, 2)\n",
    "3\n",
    "# This class doesn't have a .test member, but\n",
    "# we can add one to the instance anyway. Note\n",
    "# that this will only be a member of classinstance.\n",
    ">>> classinstance.test = 10\n",
    ">>> classinstance.test\n",
    "10"
   ]
  },
  {
   "cell_type": "markdown",
   "metadata": {},
   "source": [
    "Des exceptions\n",
    "Les exceptions en Python sont gérées avec des blocs try-except [exceptionname]:"
   ]
  },
  {
   "cell_type": "code",
   "execution_count": null,
   "metadata": {
    "collapsed": true
   },
   "outputs": [],
   "source": [
    "def some_function():\n",
    "    try:\n",
    "        # Division by zero raises an exception\n",
    "        10 / 0\n",
    "    except ZeroDivisionError:\n",
    "        print \"Oops, invalid.\"\n",
    "    else:\n",
    "        # Exception didn't occur, we're good.\n",
    "        pass\n",
    "    finally:\n",
    "        # This is executed after the code block is run\n",
    "        # and all exceptions have been handled, even\n",
    "        # if a new exception is raised while handling.\n",
    "        print \"We're done with that.\"\n",
    "\n",
    ">>> some_function()\n",
    "Oops, invalid.\n",
    "We're done with that."
   ]
  },
  {
   "cell_type": "markdown",
   "metadata": {},
   "source": [
    "Importation\n",
    "Les bibliothèques externes sont utilisées avec le mot clé import [libname]. Vous pouvez également utiliser [libname] import [funcname] pour des fonctions individuelles. Voici un exemple:"
   ]
  },
  {
   "cell_type": "code",
   "execution_count": null,
   "metadata": {
    "collapsed": true
   },
   "outputs": [],
   "source": [
    "import random\n",
    "from time import clock\n",
    "\n",
    "randomint = random.randint(1, 100)\n",
    ">>> print randomint\n",
    "64"
   ]
  },
  {
   "cell_type": "markdown",
   "metadata": {},
   "source": [
    "File I/O\n",
    "Python has a wide array of libraries built in. As an example, here is how serializing (converting data structures to strings using the pickle library) with file I/O is used:"
   ]
  },
  {
   "cell_type": "code",
   "execution_count": null,
   "metadata": {
    "collapsed": true
   },
   "outputs": [],
   "source": [
    "import pickle\n",
    "mylist = [\"This\", \"is\", 4, 13327]\n",
    "# Open the file C:\\\\binary.dat for writing. The letter r before the\n",
    "# filename string is used to prevent backslash escaping.\n",
    "myfile = open(r\"C:\\\\binary.dat\", \"w\")\n",
    "pickle.dump(mylist, myfile)\n",
    "myfile.close()\n",
    "\n",
    "myfile = open(r\"C:\\\\text.txt\", \"w\")\n",
    "myfile.write(\"This is a sample string\")\n",
    "myfile.close()\n",
    "\n",
    "myfile = open(r\"C:\\\\text.txt\")\n",
    ">>> print myfile.read()\n",
    "'This is a sample string'\n",
    "myfile.close()\n",
    "\n",
    "# Open the file for reading.\n",
    "myfile = open(r\"C:\\\\binary.dat\")\n",
    "loadedlist = pickle.load(myfile)\n",
    "myfile.close()\n",
    ">>> print loadedlist\n",
    "['This', 'is', 4, 13327]"
   ]
  },
  {
   "cell_type": "markdown",
   "metadata": {},
   "source": [
    "Divers\n",
    "Les conditions peuvent être enchaînées. 1 <a <3 vérifie que a est à la fois inférieur à 3 et supérieur à 1.\n",
    "Vous pouvez utiliser del pour supprimer des variables ou des éléments dans des tableaux.\n",
    "List comprehensions fournir un moyen puissant pour créer et manipuler des listes. Ils consistent en une expression suivie d'une clause for suivie de zéro ou plus si ou pour des clauses, comme suit:"
   ]
  },
  {
   "cell_type": "code",
   "execution_count": null,
   "metadata": {
    "collapsed": true
   },
   "outputs": [],
   "source": [
    ">>> lst1 = [1, 2, 3]\n",
    ">>> lst2 = [3, 4, 5]\n",
    ">>> print [x * y for x in lst1 for y in lst2]\n",
    "[3, 4, 5, 6, 8, 10, 9, 12, 15]\n",
    ">>> print [x for x in lst1 if 4 > x > 1]\n",
    "[2, 3]\n",
    "# Check if a condition is true for any items.\n",
    "# \"any\" returns true if any item in the list is true.\n",
    ">>> any([i % 3 for i in [3, 3, 4, 4, 3]])\n",
    "True\n",
    "# This is because 4 % 3 = 1, and 1 is true, so any()\n",
    "# returns True.\n",
    "\n",
    "# Check for how many items a condition is true.\n",
    ">>> sum(1 for i in [3, 3, 4, 4, 3] if i == 4)\n",
    "2\n",
    ">>> del lst1[0]\n",
    ">>> print lst1\n",
    "[2, 3]\n",
    ">>> del lst1"
   ]
  },
  {
   "cell_type": "markdown",
   "metadata": {},
   "source": [
    "Global variables are declared outside of functions and can be read without any special declarations, but if you want to write to them you must declare them at the beginning of the function with the \"global\" keyword, otherwise Python will bind that object to a new local variable (be careful of that, it's a small catch that can get you if you don't know it). For example:"
   ]
  },
  {
   "cell_type": "code",
   "execution_count": null,
   "metadata": {
    "collapsed": true
   },
   "outputs": [],
   "source": [
    "nombre = 5\n",
    "\n",
    "def mafonction():\n",
    "    # Il affichera 5.\n",
    "    print nombre\n",
    "\n",
    "def autre_fonction():\n",
    "    # Cela engendra une exception car la variable n'a pas été liée avant d'être affichée.\n",
    "    # Python knows that it an\n",
    "    # object will be bound to it later and creates a new, local\n",
    "    # object instead of accessing the global one.\n",
    "    print nombre\n",
    "    number = 3\n",
    "\n",
    "def autre_autre_fonction():\n",
    "    global nombre\n",
    "    # This will correctly change the global.\n",
    "    nombre = 3"
   ]
  },
  {
   "cell_type": "markdown",
   "metadata": {},
   "source": [
    "Épilogue\n",
    "Ce tutoriel n'est pas destiné à être une liste exhaustive de tous (ou même d'un sous-ensemble) de Python. Python a un vaste éventail de bibliothèques et beaucoup plus de fonctionnalités que vous aurez à découvrir par d'autres moyens, tels que l'excellent livre Dive into Python. J'espère avoir rendu votre transition en Python plus facile. S'il vous plaît laissez des commentaires si vous pensez qu'il ya quelque chose qui pourrait être amélioré ou ajouté ou s'il ya quelque chose que vous aimeriez voir (classes, gestion des erreurs, quoi que ce soit)."
   ]
  }
 ],
 "metadata": {
  "anaconda-cloud": {},
  "kernelspec": {
   "display_name": "Python [conda root]",
   "language": "python",
   "name": "conda-root-py"
  },
  "language_info": {
   "codemirror_mode": {
    "name": "ipython",
    "version": 3
   },
   "file_extension": ".py",
   "mimetype": "text/x-python",
   "name": "python",
   "nbconvert_exporter": "python",
   "pygments_lexer": "ipython3",
   "version": "3.5.2"
  }
 },
 "nbformat": 4,
 "nbformat_minor": 1
}
