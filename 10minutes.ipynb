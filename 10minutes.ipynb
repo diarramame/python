{
 "cells": [
  {
   "cell_type": "markdown",
   "metadata": {},
   "source": [
    "#Propriétés\n",
    "Python est fortement typé (c'est-à-dire que les types sont appliqués), dynamiquement, implicitement tapé (c'est-à-dire que vous n'avez pas à déclarer les variables), sensible à la casse (var et VAR sont deux variables différentes) .\n",
    "Obtenir de l'aide\n",
    "L'aide en Python est toujours disponible directement dans l'interpréteur. Si vous voulez savoir comment un objet fonctionne, tout ce que vous avez à faire est d'appeler.\n",
    "\n",
    "#Obtenir de l'aide\n",
    "L'aide en Python est toujours disponible directement dans l'interpréteur. Si vous voulez savoir comment un objet fonctionne, vous n'avez qu'à appeler help (<object>)! Aussi utile sont dir (), qui montre toutes les méthodes de l'objet, et <object> .__ doc__, qui vous montre sa chaîne de documentation"
   ]
  },
  {
   "cell_type": "code",
   "execution_count": 14,
   "metadata": {
    "collapsed": false
   },
   "outputs": [
    {
     "name": "stdout",
     "output_type": "stream",
     "text": [
      "Help on int object:\n",
      "\n",
      "class int(object)\n",
      " |  int(x=0) -> integer\n",
      " |  int(x, base=10) -> integer\n",
      " |  \n",
      " |  Convert a number or string to an integer, or return 0 if no arguments\n",
      " |  are given.  If x is a number, return x.__int__().  For floating point\n",
      " |  numbers, this truncates towards zero.\n",
      " |  \n",
      " |  If x is not a number or if base is given, then x must be a string,\n",
      " |  bytes, or bytearray instance representing an integer literal in the\n",
      " |  given base.  The literal can be preceded by '+' or '-' and be surrounded\n",
      " |  by whitespace.  The base defaults to 10.  Valid bases are 0 and 2-36.\n",
      " |  Base 0 means to interpret the base from the string as an integer literal.\n",
      " |  >>> int('0b100', base=0)\n",
      " |  4\n",
      " |  \n",
      " |  Methods defined here:\n",
      " |  \n",
      " |  __abs__(self, /)\n",
      " |      abs(self)\n",
      " |  \n",
      " |  __add__(self, value, /)\n",
      " |      Return self+value.\n",
      " |  \n",
      " |  __and__(self, value, /)\n",
      " |      Return self&value.\n",
      " |  \n",
      " |  __bool__(self, /)\n",
      " |      self != 0\n",
      " |  \n",
      " |  __ceil__(...)\n",
      " |      Ceiling of an Integral returns itself.\n",
      " |  \n",
      " |  __divmod__(self, value, /)\n",
      " |      Return divmod(self, value).\n",
      " |  \n",
      " |  __eq__(self, value, /)\n",
      " |      Return self==value.\n",
      " |  \n",
      " |  __float__(self, /)\n",
      " |      float(self)\n",
      " |  \n",
      " |  __floor__(...)\n",
      " |      Flooring an Integral returns itself.\n",
      " |  \n",
      " |  __floordiv__(self, value, /)\n",
      " |      Return self//value.\n",
      " |  \n",
      " |  __format__(...)\n",
      " |      default object formatter\n",
      " |  \n",
      " |  __ge__(self, value, /)\n",
      " |      Return self>=value.\n",
      " |  \n",
      " |  __getattribute__(self, name, /)\n",
      " |      Return getattr(self, name).\n",
      " |  \n",
      " |  __getnewargs__(...)\n",
      " |  \n",
      " |  __gt__(self, value, /)\n",
      " |      Return self>value.\n",
      " |  \n",
      " |  __hash__(self, /)\n",
      " |      Return hash(self).\n",
      " |  \n",
      " |  __index__(self, /)\n",
      " |      Return self converted to an integer, if self is suitable for use as an index into a list.\n",
      " |  \n",
      " |  __int__(self, /)\n",
      " |      int(self)\n",
      " |  \n",
      " |  __invert__(self, /)\n",
      " |      ~self\n",
      " |  \n",
      " |  __le__(self, value, /)\n",
      " |      Return self<=value.\n",
      " |  \n",
      " |  __lshift__(self, value, /)\n",
      " |      Return self<<value.\n",
      " |  \n",
      " |  __lt__(self, value, /)\n",
      " |      Return self<value.\n",
      " |  \n",
      " |  __mod__(self, value, /)\n",
      " |      Return self%value.\n",
      " |  \n",
      " |  __mul__(self, value, /)\n",
      " |      Return self*value.\n",
      " |  \n",
      " |  __ne__(self, value, /)\n",
      " |      Return self!=value.\n",
      " |  \n",
      " |  __neg__(self, /)\n",
      " |      -self\n",
      " |  \n",
      " |  __new__(*args, **kwargs) from builtins.type\n",
      " |      Create and return a new object.  See help(type) for accurate signature.\n",
      " |  \n",
      " |  __or__(self, value, /)\n",
      " |      Return self|value.\n",
      " |  \n",
      " |  __pos__(self, /)\n",
      " |      +self\n",
      " |  \n",
      " |  __pow__(self, value, mod=None, /)\n",
      " |      Return pow(self, value, mod).\n",
      " |  \n",
      " |  __radd__(self, value, /)\n",
      " |      Return value+self.\n",
      " |  \n",
      " |  __rand__(self, value, /)\n",
      " |      Return value&self.\n",
      " |  \n",
      " |  __rdivmod__(self, value, /)\n",
      " |      Return divmod(value, self).\n",
      " |  \n",
      " |  __repr__(self, /)\n",
      " |      Return repr(self).\n",
      " |  \n",
      " |  __rfloordiv__(self, value, /)\n",
      " |      Return value//self.\n",
      " |  \n",
      " |  __rlshift__(self, value, /)\n",
      " |      Return value<<self.\n",
      " |  \n",
      " |  __rmod__(self, value, /)\n",
      " |      Return value%self.\n",
      " |  \n",
      " |  __rmul__(self, value, /)\n",
      " |      Return value*self.\n",
      " |  \n",
      " |  __ror__(self, value, /)\n",
      " |      Return value|self.\n",
      " |  \n",
      " |  __round__(...)\n",
      " |      Rounding an Integral returns itself.\n",
      " |      Rounding with an ndigits argument also returns an integer.\n",
      " |  \n",
      " |  __rpow__(self, value, mod=None, /)\n",
      " |      Return pow(value, self, mod).\n",
      " |  \n",
      " |  __rrshift__(self, value, /)\n",
      " |      Return value>>self.\n",
      " |  \n",
      " |  __rshift__(self, value, /)\n",
      " |      Return self>>value.\n",
      " |  \n",
      " |  __rsub__(self, value, /)\n",
      " |      Return value-self.\n",
      " |  \n",
      " |  __rtruediv__(self, value, /)\n",
      " |      Return value/self.\n",
      " |  \n",
      " |  __rxor__(self, value, /)\n",
      " |      Return value^self.\n",
      " |  \n",
      " |  __sizeof__(...)\n",
      " |      Returns size in memory, in bytes\n",
      " |  \n",
      " |  __str__(self, /)\n",
      " |      Return str(self).\n",
      " |  \n",
      " |  __sub__(self, value, /)\n",
      " |      Return self-value.\n",
      " |  \n",
      " |  __truediv__(self, value, /)\n",
      " |      Return self/value.\n",
      " |  \n",
      " |  __trunc__(...)\n",
      " |      Truncating an Integral returns itself.\n",
      " |  \n",
      " |  __xor__(self, value, /)\n",
      " |      Return self^value.\n",
      " |  \n",
      " |  bit_length(...)\n",
      " |      int.bit_length() -> int\n",
      " |      \n",
      " |      Number of bits necessary to represent self in binary.\n",
      " |      >>> bin(37)\n",
      " |      '0b100101'\n",
      " |      >>> (37).bit_length()\n",
      " |      6\n",
      " |  \n",
      " |  conjugate(...)\n",
      " |      Returns self, the complex conjugate of any int.\n",
      " |  \n",
      " |  from_bytes(...) from builtins.type\n",
      " |      int.from_bytes(bytes, byteorder, *, signed=False) -> int\n",
      " |      \n",
      " |      Return the integer represented by the given array of bytes.\n",
      " |      \n",
      " |      The bytes argument must be a bytes-like object (e.g. bytes or bytearray).\n",
      " |      \n",
      " |      The byteorder argument determines the byte order used to represent the\n",
      " |      integer.  If byteorder is 'big', the most significant byte is at the\n",
      " |      beginning of the byte array.  If byteorder is 'little', the most\n",
      " |      significant byte is at the end of the byte array.  To request the native\n",
      " |      byte order of the host system, use `sys.byteorder' as the byte order value.\n",
      " |      \n",
      " |      The signed keyword-only argument indicates whether two's complement is\n",
      " |      used to represent the integer.\n",
      " |  \n",
      " |  to_bytes(...)\n",
      " |      int.to_bytes(length, byteorder, *, signed=False) -> bytes\n",
      " |      \n",
      " |      Return an array of bytes representing an integer.\n",
      " |      \n",
      " |      The integer is represented using length bytes.  An OverflowError is\n",
      " |      raised if the integer is not representable with the given number of\n",
      " |      bytes.\n",
      " |      \n",
      " |      The byteorder argument determines the byte order used to represent the\n",
      " |      integer.  If byteorder is 'big', the most significant byte is at the\n",
      " |      beginning of the byte array.  If byteorder is 'little', the most\n",
      " |      significant byte is at the end of the byte array.  To request the native\n",
      " |      byte order of the host system, use `sys.byteorder' as the byte order value.\n",
      " |      \n",
      " |      The signed keyword-only argument determines whether two's complement is\n",
      " |      used to represent the integer.  If signed is False and a negative integer\n",
      " |      is given, an OverflowError is raised.\n",
      " |  \n",
      " |  ----------------------------------------------------------------------\n",
      " |  Data descriptors defined here:\n",
      " |  \n",
      " |  denominator\n",
      " |      the denominator of a rational number in lowest terms\n",
      " |  \n",
      " |  imag\n",
      " |      the imaginary part of a complex number\n",
      " |  \n",
      " |  numerator\n",
      " |      the numerator of a rational number in lowest terms\n",
      " |  \n",
      " |  real\n",
      " |      the real part of a complex number\n",
      "\n"
     ]
    },
    {
     "data": {
      "text/plain": [
       "'Return the absolute value of the argument.'"
      ]
     },
     "execution_count": 14,
     "metadata": {},
     "output_type": "execute_result"
    }
   ],
   "source": [
    "help(5)\n",
    "\n",
    "dir(5)\n",
    "\n",
    "\n",
    "abs.__doc__\n"
   ]
  },
  {
   "cell_type": "markdown",
   "metadata": {},
   "source": [
    "Syntaxe\n",
    "Python n'a pas de caractères obligatoires de terminaison d'instruction et les blocs sont spécifiés par indentation. Indent pour commencer un bloc, dedent à la fin d'un. Les instructions qui attendent un niveau d'indentation se terminent en deux points (:). Les commentaires commencent par le signe pound (#) et sont des lignes simples et multi-lignes qui sont utilisées pour les commentaires multilignes. Les valeurs sont assignées (en fait, les objets sont liés à des noms) avec le signe égal (\"=\"), et le test d'égalité est effectué en utilisant deux signes égaux (\"==\"). Vous pouvez incrémenter / décrémenter les valeurs en utilisant les opérateurs + = et - = respectivement par la valeur de droite. Cela fonctionne sur de nombreux types de données, chaînes incluses. Vous pouvez également utiliser plusieurs variables sur une seule ligne. Par exemple:"
   ]
  },
  {
   "cell_type": "code",
   "execution_count": 15,
   "metadata": {
    "collapsed": false
   },
   "outputs": [
    {
     "name": "stdout",
     "output_type": "stream",
     "text": [
      "Bonjour tout le monde.\n"
     ]
    }
   ],
   "source": [
    "\n",
    "\n",
    "mavariable = 3\n",
    "mavariable += 2\n",
    "mavariable\n",
    "\n",
    "mavariable -= 1\n",
    "mavariable\n",
    "\n",
    "\"\"\"C'est un long commentaire.\n",
    "Les prochaines lignes concatenent les deux chaines de caractère.\"\"\"\n",
    "ma_chaine_de_caractere = \"Bonjour\"\n",
    "ma_chaine_de_caractere += \" tout le monde.\"\n",
    "print (ma_chaine_de_caractere)\n",
    "\n",
    "# This swaps the variables in one line(!).\n",
    "# It doesn't violate strong typing because values aren't\n",
    "# actually being assigned, but new objects are bound to\n",
    "# the old names.\n",
    "mavariable, ma_chaine_de_caractere = ma_chaine_de_caractere, mavariable\n",
    "\n"
   ]
  },
  {
   "cell_type": "markdown",
   "metadata": {},
   "source": [
    "Types de données\n",
    "Les structures de données disponibles en python sont des listes, des tuples et des dictionnaires. Les ensembles sont disponibles dans la bibliothèque des ensembles (mais sont intégrés dans Python 2.5 et versions ultérieures). Les listes sont comme des tableaux unidimensionnels (mais vous pouvez également avoir des listes d'autres listes), les dictionnaires sont des tableaux associatifs (tables de hachage aka) et les tuples sont des tableaux unidimensionnels immuables (les \"tableaux\" Python peuvent être de tout type, donc vous pouvez Mix, par exemple, entiers, chaînes, etc dans les listes / dictionnaires / tuples). L'index du premier élément dans tous les types de tableau est 0. Les nombres négatifs comptent de la fin vers le début, -1 est le dernier élément. Les variables peuvent pointer vers des fonctions. L'utilisation est la suivante:"
   ]
  },
  {
   "cell_type": "code",
   "execution_count": 20,
   "metadata": {
    "collapsed": false
   },
   "outputs": [
    {
     "name": "stdout",
     "output_type": "stream",
     "text": [
      "3\n"
     ]
    }
   ],
   "source": [
    "sample = [1, [\"another\", \"list\"], (\"a\", \"tuple\")]\n",
    "ma_liste = [\"List item 1\", 2, 3.14]\n",
    "ma_liste [0] = \"List item 1 again\" # Nous changeons l'article.\n",
    "ma_liste [-1] = 3.21 # Ici, nous nous référons à la dernière rubrique.\n",
    "mon_dictionnaire  = {\"Key 1\": \"Value 1\", 2: 3, \"pi\": 3.14}\n",
    "mon_dictionnaire [\"pi\"] = 3.15 # C'est ainsi que vous changez les valeurs du dictionnaire.\n",
    "ma_tuple  = (1, 2, 3)\n",
    "ma_fonction  = len ## len permettre de définir la taille\n",
    "print (ma_fonction (ma_liste))\n"
   ]
  },
  {
   "cell_type": "markdown",
   "metadata": {},
   "source": [
    "Vous pouvez accéder aux plages de tableau à l'aide de deux points (:). Laisser l'index de départ vide suppose le premier élément, laissant l'index final supposer le dernier élément. Les indices négatifs comptent à partir du dernier élément vers l'arrière (donc -1 est le dernier élément) comme suit:"
   ]
  },
  {
   "cell_type": "code",
   "execution_count": 24,
   "metadata": {
    "collapsed": false
   },
   "outputs": [
    {
     "name": "stdout",
     "output_type": "stream",
     "text": [
      "['Liste d elements 1', 2, 3.14]\n",
      "['Liste d elements 1', 2]\n",
      "['Liste d elements 1', 2]\n",
      "[2, 3.14]\n",
      "['Liste d elements 1', 3.14]\n"
     ]
    }
   ],
   "source": [
    "ma_liste = [\"Liste d elements 1\", 2, 3.14]\n",
    "print (ma_liste [:])\n",
    "\n",
    "print (ma_liste [0:2])\n",
    "\n",
    "print (ma_liste [-3:-1])\n",
    "\n",
    "print (ma_liste [1:])\n",
    "\n",
    "# Ajout d'un troisième paramètre, \"step\" aura l'étape Python en\n",
    "# Nombre d'incréments, plutôt que 1.\n",
    "# E.g., cela retourne le premier élément, puis passez au troisième et\n",
    "# Return that (donc, items 0 et 2 dans 0-indexing).\n",
    "print (ma_liste[::2])\n"
   ]
  },
  {
   "cell_type": "markdown",
   "metadata": {},
   "source": [
    "Chaines de caractères\n",
    "Ses chaînes peuvent utiliser des guillemets simples ou doubles, et vous pouvez avoir des guillemets d'un type à l'intérieur d'une chaîne qui utilise l'autre type (c'est-à-dire «Il a dit« bonjour ». Les chaînes de caractères multilignes sont encadrées par des guillemets triples (ou \"uniques\"). Python supporte Unicode hors de la boîte, en utilisant la syntaxe u \"Ceci est une chaîne unicode\". Modulo) et un tuple.Chaque% s est remplacé par un élément du tuple, de gauche à droite, et vous pouvez également utiliser des substitutions de dictionnaire comme suit:"
   ]
  },
  {
   "cell_type": "code",
   "execution_count": 37,
   "metadata": {
    "collapsed": false
   },
   "outputs": [
    {
     "name": "stdout",
     "output_type": "stream",
     "text": [
      "Name: lolNumber: 3String: ---\n"
     ]
    }
   ],
   "source": [
    "print (\"Name: %s\\\n",
    "Number: %s\\\n",
    "String: %s\" % (\"lol\", 3, 3 * \"-\"))\n",
    "\n",
    "\n",
    "##strString = \"\"\"C'est une chaine de caractères à plusieurs lignes.\"\"\"\n",
    "\n",
    "# Attention: Attention aux traînées dans \"%(key)s\".\n",
    "# print \"This %(verb)s a %(noun)s.\" % {\"noun\": \"test\", \"verb\": \"is\"}\n"
   ]
  },
  {
   "cell_type": "markdown",
   "metadata": {},
   "source": [
    "Déclarations de contrôle de flux\n",
    "Les instructions de contrôle de flux sont if, for et while. Il n'y a pas de commutateur; Utilisez plutôt if. Utiliser pour pour énumérer par les membres d'une liste. Pour obtenir une liste de numéros, utilisez la plage (<nombre>). La syntaxe de ces énoncés est donc:"
   ]
  },
  {
   "cell_type": "code",
   "execution_count": null,
   "metadata": {
    "collapsed": true
   },
   "outputs": [],
   "source": [
    "rangelist = range(10)\n",
    "print rangelist\n",
    "[0, 1, 2, 3, 4, 5, 6, 7, 8, 9]\n",
    "for number in rangelist:\n",
    "    # Vérifier si le numéro est l'un des\n",
    "     # Les nombres dans le tuple.\n",
    "    if number in (3, 4, 7, 9):\n",
    "    # \"Pause\" termine un pour sans\n",
    "         # L'exécution de la clause \"else\".\n",
    "        break\n",
    "    else:\n",
    "        # \"Continuer\" lance la prochaine itération\n",
    "         # De la boucle. C'est plutôt inutile ici,\n",
    "        # Car c'est la dernière instruction de la boucle.\n",
    "        continue\n",
    "else:\n",
    "     # La clause \"else\" est facultative et est\n",
    "    # Exécuté uniquement si la boucle n'a pas \"briser\".\n",
    "    pass # Ne rien faire\n",
    "\n",
    "if rangelist[1] == 2:\n",
    "    print \"Le second élément (lists are 0-based) is 2\"\n",
    "elif rangelist[1] == 3:\n",
    "    print \"Le second élément (lists are 0-based) is 3\"\n",
    "else:\n",
    "    print \"Dunno\"\n",
    "\n",
    "while rangelist[1] == 1:\n",
    "    pass"
   ]
  },
  {
   "cell_type": "markdown",
   "metadata": {},
   "source": [
    "##Les fonctions\n",
    "Les fonctions sont déclarées avec le mot-clé \"def\". Les arguments optionnels sont définis dans la déclaration de fonction après les arguments obligatoires en étant affectés à une valeur par défaut. Pour les arguments nommés, le nom de l'argument est affecté d'une valeur. Les fonctions peuvent retourner un tuple (et en utilisant le déballage tuple, vous pouvez effectivement retourner plusieurs valeurs). Les fonctions Lambda sont des fonctions ad hoc qui sont composées d'une seule instruction. Les paramètres sont transmis par référence, mais les types immuables (tuples, ints, chaînes, etc) * ne peuvent pas être modifiés *. C'est parce que seul l'emplacement de mémoire de l'élément est passé, et la liaison d'un autre objet à une variable ignore l'ancien, donc les types immuables sont remplacés. Par exemple:"
   ]
  },
  {
   "cell_type": "code",
   "execution_count": null,
   "metadata": {
    "collapsed": true
   },
   "outputs": [],
   "source": [
    "# Idem def funcvar (x): return x + 1\n",
    "funcvar = lambda x: x + 1\n",
    "print funcvar(1)\n",
    "\n",
    "\n",
    "# An_int et a_string sont optionnels, ils ont des valeurs par défaut\n",
    "# Si l'un n'est pas passé (2 et \"Une chaîne par défaut\", respectivement).\n",
    "def passing_example(a_list, an_int=2, a_string=\"A default string\"):\n",
    "    a_list.append(\"A new item\")\n",
    "    an_int = 4\n",
    "    return a_list, an_int, a_string\n",
    "\n",
    "my_list = [1, 2, 3]\n",
    "my_int = 10\n",
    "print passing_example(my_list, my_int)\n",
    "([1, 2, 3, 'A new item'], 4, \"A default string\")\n",
    "my_list\n",
    "[1, 2, 3, 'A new item']\n",
    "my_int\n",
    "10"
   ]
  },
  {
   "cell_type": "markdown",
   "metadata": {},
   "source": [
    "les classes\n",
    "Python prend en charge une forme limitée d'héritage multiple dans les classes. Les variables et les méthodes privées peuvent être déclarées (par convention, cela n'est pas imposé par la langue) en ajoutant au moins deux caractères de soulignement et au plus un caractère de fin (par exemple \"__spam\"). Nous pouvons également lier des noms arbitraires aux instances de classe. Voici un exemple:"
   ]
  },
  {
   "cell_type": "code",
   "execution_count": null,
   "metadata": {
    "collapsed": true
   },
   "outputs": [],
   "source": [
    "class MyClass(object):\n",
    "    common = 10\n",
    "    def __init__(self):\n",
    "        self.myvariable = 3\n",
    "    def myfunction(self, arg1, arg2):\n",
    "        return self.myvariable\n",
    "\n",
    "    # Ceci est l'instanciation de classe\n",
    "classinstance = MyClass()\n",
    "classinstance.myfunction(1, 2)\n",
    "\n",
    "# Cette variable est partagée par toutes les instances.\n",
    "classinstance2 = MyClass()\n",
    "classinstance.common\n",
    "lassinstance2.common\n",
    "\n",
    "# Notez comment nous utilisons le nom de classe\n",
    "# À la place de l'instance.\n",
    "MyClass.common = 30\n",
    "classinstance.common\n",
    "\n",
    "classinstance2.common\n",
    "\n",
    "# Ceci ne mettra pas à jour la variable sur la classe,\n",
    "# Au lieu de cela il liera un nouvel objet à l'ancien\n",
    "# Nom de la variable.\n",
    "classinstance.common = 10\n",
    "classinstance.common\n",
    "\n",
    "classinstance2.common\n",
    "\n",
    "MyClass.common = 50\n",
    "# Cela n'a pas changé, car \"common\" est\n",
    "# Maintenant une variable d'instance.\n",
    "classinstance.common\n",
    "10\n",
    ">>> classinstance2.common\n",
    "50\n",
    "\n",
    "# Cette classe hérite de MyClass. L'exemple\n",
    "# Class above hérite de \"object\", ce qui rend\n",
    "# Ce qui est appelé une «nouvelle classe de style».\n",
    "# L'héritage multiple est déclaré comme:\n",
    "# Class OtherClass (MyClass1, MyClass2, MyClassN)\n",
    "class OtherClass(MyClass):\n",
    "     # L'argument \"self\" est transmis automatiquement\n",
    "    # Et se réfère à l'instance de classe, de sorte que vous pouvez définir\n",
    "     # Variables d'instance comme ci-dessus, mais à l'intérieur de la classe.\n",
    "    def __init__(self, arg1):\n",
    "        self.myvariable = 3\n",
    "        print arg1\n",
    "\n",
    ">>> classinstance = OtherClass(\"hello\")\n",
    "hello\n",
    ">>> classinstance.myfunction(1, 2)\n",
    "3\n",
    "# Cette classe n'a pas de membre .test, mais\n",
    "# Nous pouvons ajouter un à l'instance de toute façon. Remarque\n",
    "# Que ce ne sera qu'un membre de classinstance.\n",
    ">>> classinstance.test = 10\n",
    ">>> classinstance.test\n",
    "10"
   ]
  },
  {
   "cell_type": "markdown",
   "metadata": {},
   "source": [
    "##Les exceptions\n",
    "Les exceptions en Python sont gérées avec des blocs try-except [exceptionname]:"
   ]
  },
  {
   "cell_type": "code",
   "execution_count": null,
   "metadata": {
    "collapsed": true
   },
   "outputs": [],
   "source": [
    "def some_function():\n",
    "    try:\n",
    "        # Division par zéro soulève une exception\n",
    "        10 / 0\n",
    "    except ZeroDivisionError:\n",
    "        print \"Oops, invalide.\"\n",
    "    else:\n",
    "        # L'exception ne s'est pas produite, nous sommes bons.\n",
    "        pass\n",
    "    finally:\n",
    "         # Ceci est exécuté après le bloc de code est exécuté\n",
    "        # Et toutes les exceptions ont été traitées, même\n",
    "         # Si une nouvelle exception est levée pendant la manipulation.\n",
    "        print \"Nous en avons fini.\"\n",
    "\n",
    ">>> some_function()\n",
    "Oops, invalide.\n",
    "Nous en avons fini."
   ]
  },
  {
   "cell_type": "markdown",
   "metadata": {},
   "source": [
    "Importation\n",
    "Les bibliothèques externes sont utilisées avec le mot clé import [libname]. Vous pouvez également utiliser [libname] import [funcname] pour des fonctions individuelles. Voici un exemple:"
   ]
  },
  {
   "cell_type": "code",
   "execution_count": null,
   "metadata": {
    "collapsed": true
   },
   "outputs": [],
   "source": [
    "import random\n",
    "from time import clock\n",
    "\n",
    "randomint = random.randint(1, 100)\n",
    ">>> print randomint\n",
    "64"
   ]
  },
  {
   "cell_type": "markdown",
   "metadata": {},
   "source": [
    "Fichier d'E / S Python possède un large éventail de bibliothèques intégrées. À titre d'exemple, voici comment la sérialisation (conversion des structures de données en chaînes à l'aide de la bibliothèque pickle) avec E / S de fichier est utilisée:"
   ]
  },
  {
   "cell_type": "code",
   "execution_count": null,
   "metadata": {
    "collapsed": true
   },
   "outputs": [],
   "source": [
    "import pickle\n",
    "ma_liste = [\"C\", \"est\", 4, 13327]\n",
    "# Ouvrez le fichier C: \\\\ binary.dat pour écrire. La lettre r avant le\n",
    "# Chaîne de nom de fichier est utilisée pour empêcher l'échappement de barre oblique inverse.\n",
    "mon_fichier = open(r\"C:\\\\binary.dat\", \"w\")\n",
    "pickle.dump(ma_liste, mon_fichier)\n",
    "mon_fichier.close()\n",
    "\n",
    "mon_fichier = open(r\"C:\\\\text.txt\", \"w\")\n",
    "mon_fichier.write(\"Il s'agit d'un exemple de chaîne\")\n",
    "mon_fichier.close()\n",
    "\n",
    "mon_fichier = open(r\"C:\\\\text.txt\")\n",
    ">>> print mon_fichier.read()\n",
    "'Il sagit dun exemple de chaîne'\n",
    "mon_fichier.close()\n",
    "\n",
    "#Ouvrez le fichier pour la lecture.\n",
    "mon_fichier = open(r\"C:\\\\binary.dat\")\n",
    "liste_attendue = pickle.load(mon_fichier)\n",
    "mon_fichier.close()\n",
    ">>> print liste_attendue\n",
    "['This', 'is', 4, 13327]"
   ]
  },
  {
   "cell_type": "markdown",
   "metadata": {},
   "source": [
    "Divers\n",
    "Les conditions peuvent être enchaînées. 1 <a <3 vérifie que a est à la fois inférieur à 3 et supérieur à 1.\n",
    "Vous pouvez utiliser del pour supprimer des variables ou des éléments dans des tableaux.\n",
    "List comprehensions fournir un moyen puissant pour créer et manipuler des listes. Ils consistent en une expression suivie d'une clause for suivie de zéro ou plus si ou pour des clauses, comme suit:"
   ]
  },
  {
   "cell_type": "code",
   "execution_count": null,
   "metadata": {
    "collapsed": true
   },
   "outputs": [],
   "source": [
    ">>> lst1 = [1, 2, 3]\n",
    ">>> lst2 = [3, 4, 5]\n",
    ">>> print [x * y for x in lst1 for y in lst2]\n",
    "[3, 4, 5, 6, 8, 10, 9, 12, 15]\n",
    ">>> print [x for x in lst1 if 4 > x > 1]\n",
    "[2, 3]\n",
    "# Vérifiez si une condition est vraie pour tous les éléments.\n",
    "# \"Any\" renvoie true si un élément de la liste est vrai.\n",
    ">>> any([i % 3 for i in [3, 3, 4, 4, 3]])\n",
    "True\n",
    "# C'est parce que 4% 3 = 1, et 1 est vrai, donc tout ()\n",
    "# Retourne True.\n",
    "\n",
    "# Vérifiez combien d'éléments une condition est vraie.\n",
    ">>> sum(1 for i in [3, 3, 4, 4, 3] if i == 4)\n",
    "2\n",
    ">>> del lst1[0]\n",
    ">>> print lst1\n",
    "[2, 3]\n",
    ">>> del lst1"
   ]
  },
  {
   "cell_type": "markdown",
   "metadata": {},
   "source": [
    "Les variables globales sont déclarées en dehors des fonctions et peuvent être lues sans aucune déclaration spéciale, mais si vous voulez leur écrire, vous devez les déclarer au début de la fonction avec le mot-clé \"global\", sinon Python liera cet objet à un nouveau Variable locale (prenez garde à cela, c'est une petite prise que vous pouvez obtenir si vous ne le connaissez pas). Par exemple:"
   ]
  },
  {
   "cell_type": "code",
   "execution_count": null,
   "metadata": {
    "collapsed": true
   },
   "outputs": [],
   "source": [
    "nombre = 5\n",
    "\n",
    "def mafonction():\n",
    "    # Il affichera 5.\n",
    "    print nombre\n",
    "\n",
    "def autre_fonction():\n",
    "# Cela engendra une exception car la variable n'a pas été liée avant d'être affichée.\n",
    "# Python sait qu'il s'agit d'un\n",
    "# Objet sera lié à elle plus tard et crée un nouveau, local\n",
    "# Objet au lieu d'accéder à l'objet global.\n",
    "    print nombre\n",
    "    number = 3\n",
    "\n",
    "def autre_autre_fonction():\n",
    "    global nombre\n",
    "    # Cela changera correctement le global.\n",
    "    nombre = 3"
   ]
  },
  {
   "cell_type": "markdown",
   "metadata": {},
   "source": [
    "Épilogue\n",
    "Ce tutoriel n'est pas destiné à être une liste exhaustive de tous (ou même d'un sous-ensemble) de Python. Python a un vaste éventail de bibliothèques et beaucoup plus de fonctionnalités que vous aurez à découvrir par d'autres moyens, tels que l'excellent livre Dive into Python. J'espère avoir rendu votre transition en Python plus facile. S'il vous plaît laissez des commentaires si vous pensez qu'il ya quelque chose qui pourrait être amélioré ou ajouté ou s'il ya quelque chose que vous aimeriez voir (classes, gestion des erreurs, quoi que ce soit)."
   ]
  }
 ],
 "metadata": {
  "anaconda-cloud": {},
  "kernelspec": {
   "display_name": "Python [conda root]",
   "language": "python",
   "name": "conda-root-py"
  },
  "language_info": {
   "codemirror_mode": {
    "name": "ipython",
    "version": 3
   },
   "file_extension": ".py",
   "mimetype": "text/x-python",
   "name": "python",
   "nbconvert_exporter": "python",
   "pygments_lexer": "ipython3",
   "version": "3.5.2"
  }
 },
 "nbformat": 4,
 "nbformat_minor": 1
}
