{
 "cells": [
  {
   "cell_type": "markdown",
   "metadata": {},
   "source": [
    "2. Créez une série dont, pour chaque ligne : l’index est un code pour chaque dominante de l’Esigelec la valeur est le nom complet de la dominante"
   ]
  },
  {
   "cell_type": "code",
   "execution_count": 27,
   "metadata": {
    "collapsed": false
   },
   "outputs": [
    {
     "data": {
      "text/plain": [
       "0        BDTN\n",
       "1         ISE\n",
       "2         ISN\n",
       "3         ASR\n",
       "4        ICOM\n",
       "5         ARI\n",
       "6     MECATRO\n",
       "7      ISYMED\n",
       "8         EDD\n",
       "9         GET\n",
       "10      IADES\n",
       "11       IAIR\n",
       "dtype: object"
      ]
     },
     "execution_count": 27,
     "metadata": {},
     "output_type": "execute_result"
    }
   ],
   "source": [
    "import pandas as pd\n",
    "import numpy as np\n",
    "import matplotlib.pyplot as plt\n",
    "book_dominante = pd.Series([\"BDTN\",\"ISE\",\"ISN\",\"ASR\",\"ICOM\",\"ARI\",\"MECATRO\",\"ISYMED\",\"EDD\",\"GET\",\"IADES\",\"IAIR\"])\n",
    "book_dominante"
   ]
  },
  {
   "cell_type": "markdown",
   "metadata": {},
   "source": [
    "2.Ajoutez une colonne avec le département auquel chaque dominante appartient"
   ]
  },
  {
   "cell_type": "code",
   "execution_count": 17,
   "metadata": {
    "collapsed": false
   },
   "outputs": [
    {
     "data": {
      "text/plain": [
       "0     TIC\n",
       "1     SEI\n",
       "2     TIC\n",
       "3     TIC\n",
       "4      ET\n",
       "5     SEI\n",
       "6     SEI\n",
       "7     SEI\n",
       "8     GEE\n",
       "9     GEE\n",
       "10    GEE\n",
       "11    TIC\n",
       "dtype: object"
      ]
     },
     "execution_count": 17,
     "metadata": {},
     "output_type": "execute_result"
    }
   ],
   "source": [
    "book_departement = pd.Series([\"TIC\",\"SEI\",\"TIC\",\"TIC\",\"ET\",\"SEI\",\"SEI\",\"SEI\",\"GEE\",\"GEE\",\"GEE\",\"TIC\"])\n",
    "book_departement"
   ]
  },
  {
   "cell_type": "code",
   "execution_count": 24,
   "metadata": {
    "collapsed": true
   },
   "outputs": [],
   "source": [
    " df=pd.DataFrame({ 'Departement':book_departement,'Dominante':book_dominante})"
   ]
  },
  {
   "cell_type": "code",
   "execution_count": 25,
   "metadata": {
    "collapsed": false
   },
   "outputs": [
    {
     "data": {
      "text/html": [
       "<div>\n",
       "<table border=\"1\" class=\"dataframe\">\n",
       "  <thead>\n",
       "    <tr style=\"text-align: right;\">\n",
       "      <th></th>\n",
       "      <th>Departement</th>\n",
       "      <th>Dominante</th>\n",
       "    </tr>\n",
       "  </thead>\n",
       "  <tbody>\n",
       "    <tr>\n",
       "      <th>0</th>\n",
       "      <td>TIC</td>\n",
       "      <td>BDTN</td>\n",
       "    </tr>\n",
       "    <tr>\n",
       "      <th>1</th>\n",
       "      <td>SEI</td>\n",
       "      <td>ISE</td>\n",
       "    </tr>\n",
       "    <tr>\n",
       "      <th>2</th>\n",
       "      <td>TIC</td>\n",
       "      <td>ISN</td>\n",
       "    </tr>\n",
       "    <tr>\n",
       "      <th>3</th>\n",
       "      <td>TIC</td>\n",
       "      <td>ASR</td>\n",
       "    </tr>\n",
       "    <tr>\n",
       "      <th>4</th>\n",
       "      <td>ET</td>\n",
       "      <td>ICOM</td>\n",
       "    </tr>\n",
       "    <tr>\n",
       "      <th>5</th>\n",
       "      <td>SEI</td>\n",
       "      <td>ARI</td>\n",
       "    </tr>\n",
       "    <tr>\n",
       "      <th>6</th>\n",
       "      <td>SEI</td>\n",
       "      <td>MECATRO</td>\n",
       "    </tr>\n",
       "    <tr>\n",
       "      <th>7</th>\n",
       "      <td>SEI</td>\n",
       "      <td>ISYMED</td>\n",
       "    </tr>\n",
       "    <tr>\n",
       "      <th>8</th>\n",
       "      <td>GEE</td>\n",
       "      <td>EDD</td>\n",
       "    </tr>\n",
       "    <tr>\n",
       "      <th>9</th>\n",
       "      <td>GEE</td>\n",
       "      <td>GET</td>\n",
       "    </tr>\n",
       "    <tr>\n",
       "      <th>10</th>\n",
       "      <td>GEE</td>\n",
       "      <td>IADES</td>\n",
       "    </tr>\n",
       "    <tr>\n",
       "      <th>11</th>\n",
       "      <td>TIC</td>\n",
       "      <td>IAIR</td>\n",
       "    </tr>\n",
       "  </tbody>\n",
       "</table>\n",
       "</div>"
      ],
      "text/plain": [
       "   Departement Dominante\n",
       "0          TIC      BDTN\n",
       "1          SEI       ISE\n",
       "2          TIC       ISN\n",
       "3          TIC       ASR\n",
       "4           ET      ICOM\n",
       "5          SEI       ARI\n",
       "6          SEI   MECATRO\n",
       "7          SEI    ISYMED\n",
       "8          GEE       EDD\n",
       "9          GEE       GET\n",
       "10         GEE     IADES\n",
       "11         TIC      IAIR"
      ]
     },
     "execution_count": 25,
     "metadata": {},
     "output_type": "execute_result"
    }
   ],
   "source": [
    "df"
   ]
  },
  {
   "cell_type": "code",
   "execution_count": 39,
   "metadata": {
    "collapsed": true
   },
   "outputs": [],
   "source": [
    "departement_dominante_csv = df.to_csv('departement_dominante_csv', sep='\\t')"
   ]
  },
  {
   "cell_type": "markdown",
   "metadata": {},
   "source": [
    "3.Créez une dataframe contenant le nom, prénom et code de dominante pour chaque membre de votre PING"
   ]
  },
  {
   "cell_type": "code",
   "execution_count": 26,
   "metadata": {
    "collapsed": false
   },
   "outputs": [
    {
     "data": {
      "text/html": [
       "<div>\n",
       "<table border=\"1\" class=\"dataframe\">\n",
       "  <thead>\n",
       "    <tr style=\"text-align: right;\">\n",
       "      <th></th>\n",
       "      <th>Code Dominante</th>\n",
       "      <th>Dominante</th>\n",
       "      <th>Membre</th>\n",
       "    </tr>\n",
       "  </thead>\n",
       "  <tbody>\n",
       "    <tr>\n",
       "      <th>0</th>\n",
       "      <td>GET</td>\n",
       "      <td>Génie électrique</td>\n",
       "      <td>Ivan</td>\n",
       "    </tr>\n",
       "    <tr>\n",
       "      <th>1</th>\n",
       "      <td>GET</td>\n",
       "      <td>Génie électrique</td>\n",
       "      <td>Loic</td>\n",
       "    </tr>\n",
       "    <tr>\n",
       "      <th>2</th>\n",
       "      <td>GET</td>\n",
       "      <td>Génie électrique</td>\n",
       "      <td>Khaled</td>\n",
       "    </tr>\n",
       "    <tr>\n",
       "      <th>3</th>\n",
       "      <td>ISN</td>\n",
       "      <td>ingénieur système numérique</td>\n",
       "      <td>Steven</td>\n",
       "    </tr>\n",
       "    <tr>\n",
       "      <th>4</th>\n",
       "      <td>IAIR</td>\n",
       "      <td>ingénieur d'affaire en informatique et reseau</td>\n",
       "      <td>Amy</td>\n",
       "    </tr>\n",
       "    <tr>\n",
       "      <th>5</th>\n",
       "      <td>BDTN</td>\n",
       "      <td>Big Data</td>\n",
       "      <td>Diarra</td>\n",
       "    </tr>\n",
       "  </tbody>\n",
       "</table>\n",
       "</div>"
      ],
      "text/plain": [
       "  Code Dominante                                      Dominante  Membre\n",
       "0            GET                               Génie électrique    Ivan\n",
       "1            GET                               Génie électrique    Loic\n",
       "2            GET                               Génie électrique  Khaled\n",
       "3            ISN                    ingénieur système numérique  Steven\n",
       "4           IAIR  ingénieur d'affaire en informatique et reseau     Amy\n",
       "5           BDTN                                       Big Data  Diarra"
      ]
     },
     "execution_count": 26,
     "metadata": {},
     "output_type": "execute_result"
    }
   ],
   "source": [
    "membre_ping = pd.Series([\"Ivan\",\"Loic\",\"Khaled\",\"Steven\",\"Amy\",\"Diarra\",])\n",
    "dominante_membre_ping = pd.Series([\"Génie électrique\",\"Génie électrique\",\"Génie électrique\",\"ingénieur système numérique\",\"ingénieur d'affaire en informatique et reseau\",\"Big Data\"])\n",
    "code_dominante_ping = pd.Series([\"GET\",\"GET\",\"GET\",\"ISN\",\"IAIR\",\"BDTN\"])\n",
    "df_ping=pd.DataFrame({'Code Dominante':code_dominante_ping,'Dominante':dominante_membre_ping,'Membre':membre_ping})\n",
    "df_ping\n",
    "    "
   ]
  },
  {
   "cell_type": "code",
   "execution_count": 40,
   "metadata": {
    "collapsed": true
   },
   "outputs": [],
   "source": [
    "code_dominante_membre_csv = df.to_csv('code_dominante_membre_csv', sep='\\t')"
   ]
  },
  {
   "cell_type": "markdown",
   "metadata": {},
   "source": [
    "4.Créez une dataframe contenant le pourcentage d’élèves par département pour votre PING"
   ]
  },
  {
   "cell_type": "code",
   "execution_count": 32,
   "metadata": {
    "collapsed": false
   },
   "outputs": [
    {
     "data": {
      "text/html": [
       "<div>\n",
       "<table border=\"1\" class=\"dataframe\">\n",
       "  <thead>\n",
       "    <tr style=\"text-align: right;\">\n",
       "      <th></th>\n",
       "      <th>Dominante</th>\n",
       "      <th>Pourcentage</th>\n",
       "    </tr>\n",
       "  </thead>\n",
       "  <tbody>\n",
       "    <tr>\n",
       "      <th>0</th>\n",
       "      <td>GEE</td>\n",
       "      <td>50</td>\n",
       "    </tr>\n",
       "    <tr>\n",
       "      <th>1</th>\n",
       "      <td>TIC</td>\n",
       "      <td>50</td>\n",
       "    </tr>\n",
       "  </tbody>\n",
       "</table>\n",
       "</div>"
      ],
      "text/plain": [
       "  Dominante  Pourcentage\n",
       "0       GEE           50\n",
       "1       TIC           50"
      ]
     },
     "execution_count": 32,
     "metadata": {},
     "output_type": "execute_result"
    }
   ],
   "source": [
    "code_departement_ping = pd.Series([\"GEE\",\"TIC\"])\n",
    "pourcentage_departement_ping = pd.Series([50,50])\n",
    "df_pourcentage_ping=pd.DataFrame({'Pourcentage':pourcentage_departement_ping,'Dominante':code_departement_ping})\n",
    "df_pourcentage_ping"
   ]
  },
  {
   "cell_type": "code",
   "execution_count": 41,
   "metadata": {
    "collapsed": true
   },
   "outputs": [],
   "source": [
    "dominante_pourcentage_csv = df.to_csv('dominante_pourcentage_csv', sep='\\t')\n"
   ]
  }
 ],
 "metadata": {
  "kernelspec": {
   "display_name": "Python [default]",
   "language": "python",
   "name": "python3"
  },
  "language_info": {
   "codemirror_mode": {
    "name": "ipython",
    "version": 3
   },
   "file_extension": ".py",
   "mimetype": "text/x-python",
   "name": "python",
   "nbconvert_exporter": "python",
   "pygments_lexer": "ipython3",
   "version": "3.5.2"
  }
 },
 "nbformat": 4,
 "nbformat_minor": 1
}
